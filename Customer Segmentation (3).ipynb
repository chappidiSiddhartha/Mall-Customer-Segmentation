{
 "cells": [
  {
   "cell_type": "markdown",
   "metadata": {},
   "source": [
    "# Customer Segmentation"
   ]
  },
  {
   "cell_type": "code",
   "execution_count": 2,
   "metadata": {},
   "outputs": [
    {
     "data": {
      "text/html": [
       "<div>\n",
       "<style scoped>\n",
       "    .dataframe tbody tr th:only-of-type {\n",
       "        vertical-align: middle;\n",
       "    }\n",
       "\n",
       "    .dataframe tbody tr th {\n",
       "        vertical-align: top;\n",
       "    }\n",
       "\n",
       "    .dataframe thead th {\n",
       "        text-align: right;\n",
       "    }\n",
       "</style>\n",
       "<table border=\"1\" class=\"dataframe\">\n",
       "  <thead>\n",
       "    <tr style=\"text-align: right;\">\n",
       "      <th></th>\n",
       "      <th>CustomerID</th>\n",
       "      <th>Gender</th>\n",
       "      <th>Age</th>\n",
       "      <th>Annual Income (k$)</th>\n",
       "      <th>Spending Score (1-100)</th>\n",
       "    </tr>\n",
       "  </thead>\n",
       "  <tbody>\n",
       "    <tr>\n",
       "      <th>0</th>\n",
       "      <td>34</td>\n",
       "      <td>Male</td>\n",
       "      <td>18</td>\n",
       "      <td>33</td>\n",
       "      <td>92</td>\n",
       "    </tr>\n",
       "    <tr>\n",
       "      <th>1</th>\n",
       "      <td>66</td>\n",
       "      <td>Male</td>\n",
       "      <td>18</td>\n",
       "      <td>48</td>\n",
       "      <td>59</td>\n",
       "    </tr>\n",
       "    <tr>\n",
       "      <th>2</th>\n",
       "      <td>92</td>\n",
       "      <td>Male</td>\n",
       "      <td>18</td>\n",
       "      <td>59</td>\n",
       "      <td>41</td>\n",
       "    </tr>\n",
       "    <tr>\n",
       "      <th>3</th>\n",
       "      <td>115</td>\n",
       "      <td>Female</td>\n",
       "      <td>18</td>\n",
       "      <td>65</td>\n",
       "      <td>48</td>\n",
       "    </tr>\n",
       "    <tr>\n",
       "      <th>4</th>\n",
       "      <td>1</td>\n",
       "      <td>Male</td>\n",
       "      <td>19</td>\n",
       "      <td>15</td>\n",
       "      <td>39</td>\n",
       "    </tr>\n",
       "  </tbody>\n",
       "</table>\n",
       "</div>"
      ],
      "text/plain": [
       "   CustomerID  Gender  Age  Annual Income (k$)  Spending Score (1-100)\n",
       "0          34    Male   18                  33                      92\n",
       "1          66    Male   18                  48                      59\n",
       "2          92    Male   18                  59                      41\n",
       "3         115  Female   18                  65                      48\n",
       "4           1    Male   19                  15                      39"
      ]
     },
     "execution_count": 2,
     "metadata": {},
     "output_type": "execute_result"
    }
   ],
   "source": [
    "import pandas as pd\n",
    "import numpy as np\n",
    "from sklearn.cluster import KMeans\n",
    "from sklearn.preprocessing import MinMaxScaler\n",
    "from matplotlib import pyplot as plt\n",
    "%matplotlib inline\n",
    "df = pd.read_csv(r\"C:\\Users\\chapp\\Downloads\\customer.csv\")\n",
    "df.head()"
   ]
  },
  {
   "cell_type": "code",
   "execution_count": 3,
   "metadata": {},
   "outputs": [
    {
     "data": {
      "text/plain": [
       "Female    112\n",
       "Male       88\n",
       "Name: Gender, dtype: int64"
      ]
     },
     "execution_count": 3,
     "metadata": {},
     "output_type": "execute_result"
    }
   ],
   "source": [
    "df['Gender'].value_counts()"
   ]
  },
  {
   "cell_type": "code",
   "execution_count": 4,
   "metadata": {},
   "outputs": [
    {
     "data": {
      "image/png": "[encoded data removed]",
      "text/plain": [
       "<Figure size 432x288 with 1 Axes>"
      ]
     },
     "metadata": {},
     "output_type": "display_data"
    }
   ],
   "source": [
    "y = np.array([112,88 ])\n",
    "mylabels = [\"Female\", \"Male\"]\n",
    "mycolors = [\"skyblue\",  \"#4CAF50\"]\n",
    "plt.pie(y, labels = mylabels,colors = mycolors,radius=1.5,startangle = 90,autopct='%f%%')\n",
    "plt.legend()\n",
    "plt.show() "
   ]
  },
  {
   "cell_type": "code",
   "execution_count": 5,
   "metadata": {},
   "outputs": [
    {
     "data": {
      "image/png": "[encoded data removed]",
      "text/plain": [
       "<Figure size 432x288 with 1 Axes>"
      ]
     },
     "metadata": {},
     "output_type": "display_data"
    },
    {
     "name": "stdout",
     "output_type": "stream",
     "text": [
      "mean: 38.85 \n",
      " Standard deviation:\n",
      " 13.96900733155888\n"
     ]
    }
   ],
   "source": [
    "from scipy.stats import norm\n",
    "import statistics\n",
    "x_axis = df[\"Age\"]\n",
    "  \n",
    "mean = statistics.mean(x_axis)\n",
    "sd = statistics.stdev(x_axis)\n",
    "x_axis = df[\"Age\"]  \n",
    "plt.plot(x_axis, norm.pdf(x_axis, mean, sd))\n",
    "plt.xlabel(\"Age\")\n",
    "plt.ylabel(\"pdf\")\n",
    "plt.show()\n",
    "print(\"mean:\",mean,\"\\n\",\"Standard deviation:\\n\",sd)\n",
    "\n",
    "\n",
    "plt.show()"
   ]
  },
  {
   "cell_type": "code",
   "execution_count": 7,
   "metadata": {},
   "outputs": [
    {
     "data": {
      "image/png": "[encoded data removed]",
      "text/plain": [
       "<Figure size 432x288 with 1 Axes>"
      ]
     },
     "metadata": {},
     "output_type": "display_data"
    }
   ],
   "source": [
    "plt.plot(df[\"Age\"],df['Annual Income (k$)'])\n",
    "plt.xlabel(\"Age\")\n",
    "plt.ylabel(\"Annual Income (k$)\")\n",
    "plt.show()\n",
    "# No corelation between Age,Annual Income"
   ]
  },
  {
   "cell_type": "code",
   "execution_count": 8,
   "metadata": {},
   "outputs": [
    {
     "data": {
      "image/png": "[encoded data removed]",
      "text/plain": [
       "<Figure size 432x288 with 1 Axes>"
      ]
     },
     "metadata": {},
     "output_type": "display_data"
    }
   ],
   "source": [
    "plt.plot(df[\"Age\"],df['Spending Score (1-100)'])\n",
    "plt.xlabel(\"Age\")\n",
    "plt.ylabel('Spending Score (1-100)')\n",
    "plt.show()\n",
    "# No corelation between Age,Spending Score (1-100)"
   ]
  },
  {
   "cell_type": "code",
   "execution_count": 9,
   "metadata": {},
   "outputs": [
    {
     "data": {
      "text/plain": [
       "Text(0, 0.5, 'Spending Score (1-100)')"
      ]
     },
     "execution_count": 9,
     "metadata": {},
     "output_type": "execute_result"
    },
    {
     "data": {
      "image/png": "[encoded data removed]",
      "text/plain": [
       "<Figure size 432x288 with 1 Axes>"
      ]
     },
     "metadata": {},
     "output_type": "display_data"
    }
   ],
   "source": [
    "plt.scatter(df[\"Age\"],df['Spending Score (1-100)'])\n",
    "plt.xlabel('Age')\n",
    "plt.ylabel('Spending Score (1-100)')"
   ]
  },
  {
   "cell_type": "code",
   "execution_count": 10,
   "metadata": {},
   "outputs": [
    {
     "data": {
      "text/plain": [
       "Text(0, 0.5, 'Annual Income (k$)')"
      ]
     },
     "execution_count": 10,
     "metadata": {},
     "output_type": "execute_result"
    },
    {
     "data": {
      "image/png": "[encoded data removed]",
      "text/plain": [
       "<Figure size 432x288 with 1 Axes>"
      ]
     },
     "metadata": {},
     "output_type": "display_data"
    }
   ],
   "source": [
    "plt.scatter(df[\"Age\"],df['Annual Income (k$)'])\n",
    "plt.xlabel('Age')\n",
    "plt.ylabel( 'Annual Income (k$)')"
   ]
  },
  {
   "cell_type": "code",
   "execution_count": 11,
   "metadata": {},
   "outputs": [
    {
     "data": {
      "text/plain": [
       "Text(0, 0.5, 'Income($)')"
      ]
     },
     "execution_count": 11,
     "metadata": {},
     "output_type": "execute_result"
    },
    {
     "data": {
      "image/png": "[encoded data removed]",
      "text/plain": [
       "<Figure size 432x288 with 1 Axes>"
      ]
     },
     "metadata": {},
     "output_type": "display_data"
    }
   ],
   "source": [
    "plt.scatter(df[\"Gender\"],df[\"Annual Income (k$)\"])\n",
    "plt.xlabel('Gender')\n",
    "plt.ylabel('Income($)')"
   ]
  },
  {
   "cell_type": "code",
   "execution_count": 12,
   "metadata": {},
   "outputs": [
    {
     "data": {
      "text/plain": [
       "Text(0, 0.5, 'Spending Score (1-100)')"
      ]
     },
     "execution_count": 12,
     "metadata": {},
     "output_type": "execute_result"
    },
    {
     "data": {
      "image/png": "[encoded data removed]",
      "text/plain": [
       "<Figure size 432x288 with 1 Axes>"
      ]
     },
     "metadata": {},
     "output_type": "display_data"
    }
   ],
   "source": [
    "plt.scatter(df[\"Annual Income (k$)\"],df[\"Spending Score (1-100)\"])\n",
    "plt.xlabel('Income($)')\n",
    "plt.ylabel('Spending Score (1-100)')"
   ]
  },
  {
   "cell_type": "code",
   "execution_count": 13,
   "metadata": {},
   "outputs": [
    {
     "name": "stdout",
     "output_type": "stream",
     "text": [
      "Sse: [269981.27999999997, 181363.59595959593, 106348.37306211119, 73679.78903948836, 44448.45544793371, 37265.86520484346, 30552.714025467285, 25028.02047526941, 21818.11458845218]\n"
     ]
    }
   ],
   "source": [
    "#calculation of errors sum of squared errors\n",
    "sse = []\n",
    "k_range = range(1,10)\n",
    "for k in k_range:\n",
    "    km = KMeans(n_clusters=k)\n",
    "    km.fit(df[['Annual Income (k$)','Spending Score (1-100)']])\n",
    "    sse.append(km.inertia_)\n",
    "#print sum of squared errors\n",
    "print(\"Sse:\",sse)"
   ]
  },
  {
   "cell_type": "code",
   "execution_count": 14,
   "metadata": {},
   "outputs": [
    {
     "data": {
      "text/plain": [
       "[<matplotlib.lines.Line2D at 0x1a405d1cbe0>]"
      ]
     },
     "execution_count": 14,
     "metadata": {},
     "output_type": "execute_result"
    },
    {
     "data": {
      "image/png": "[encoded data removed]",
      "text/plain": [
       "<Figure size 432x288 with 1 Axes>"
      ]
     },
     "metadata": {},
     "output_type": "display_data"
    }
   ],
   "source": [
    "k_range = range(1,10)\n",
    "plt.xlabel('K-Values')\n",
    "plt.ylabel('Sum of squared error')\n",
    "plt.plot(k_range,sse)"
   ]
  },
  {
   "cell_type": "code",
   "execution_count": 15,
   "metadata": {},
   "outputs": [
    {
     "name": "stdout",
     "output_type": "stream",
     "text": [
      "Y Predicted\n",
      " [3 1 1 1 0 1 1 1 1 1 2 2 0 3 3 1 2 3 3 3 1 1 3 3 1 3 3 3 1 1 2 3 3 3 1 3 1\n",
      " 2 1 1 1 1 1 1 4 4 1 4 4 4 3 1 4 4 4 3 3 4 4 4 4 4 0 3 1 1 1 4 4 4 1 1 4 4\n",
      " 4 4 4 4 4 4 2 1 4 2 1 2 4 2 2 0 3 0 3 0 3 4 4 4 0 4 2 2 4 4 0 2 2 1 1 1 4\n",
      " 4 4 4 4 4 0 1 1 1 4 2 2 2 0 2 1 1 2 2 2 0 1 2 0 1 2 1 1 1 2 2 2 0 1 1 1 2\n",
      " 0 0 1 1 1 1 1 1 1 1 1 2 1 1 0 2 0 1 0 1 1 2 1 2 1 2 0 2 1 1 2 2 0 1 1 1 1\n",
      " 0 0 1 1 1 0 1 1 1 1 1 1 1 1 1] \n",
      " clustercentres:\n",
      " [[20.91304348 26.30434783]\n",
      " [49.51851852 55.2962963 ]\n",
      " [17.11428571 88.2       ]\n",
      " [79.36363636 25.72727273]\n",
      " [82.12820513 86.53846154]]\n"
     ]
    }
   ],
   "source": [
    "km = KMeans(n_clusters=5)\n",
    "y_predicted = km.fit_predict(df[['Spending Score (1-100)','Annual Income (k$)']])\n",
    "\n",
    "#y_predicted1 = km.fit_predict(df1[['Spending Score (1-100)','Annual Income (k$)']])\n",
    "print(\"Y Predicted\\n\",y_predicted,\"\\n\",\"clustercentres:\\n\",km.cluster_centers_)\n",
    "u=km.cluster_centers_\n",
    "df['customer_base_cluster']=y_predicted"
   ]
  },
  {
   "cell_type": "code",
   "execution_count": 16,
   "metadata": {},
   "outputs": [
    {
     "data": {
      "image/png": "[encoded data removed]",
      "text/plain": [
       "<Figure size 576x576 with 1 Axes>"
      ]
     },
     "metadata": {},
     "output_type": "display_data"
    }
   ],
   "source": [
    "km = KMeans(n_clusters=5)\n",
    "df1 = df[df.customer_base_cluster==0]\n",
    "df2 = df[df.customer_base_cluster==1]\n",
    "df3 = df[df.customer_base_cluster==2]\n",
    "df4 = df[df.customer_base_cluster==3]\n",
    "df5 = df[df.customer_base_cluster==4]\n",
    "plt.figure(figsize=(8,8))\n",
    "plt.scatter(df1[\"Spending Score (1-100)\"],df1['Annual Income (k$)'],color='green',label='0 Cluster')\n",
    "plt.scatter(df2[\"Spending Score (1-100)\"],df2['Annual Income (k$)'],color='red',label='1 Cluster')\n",
    "plt.scatter(df3[\"Spending Score (1-100)\"],df3['Annual Income (k$)'],color='blue',label='2 Cluster')\n",
    "plt.scatter(df4[\"Spending Score (1-100)\"],df4['Annual Income (k$)'],color='orange',label='3 Cluster')\n",
    "plt.scatter(df5[\"Spending Score (1-100)\"],df5['Annual Income (k$)'],color='magenta',label='4 Cluster')\n",
    "#plotting centroids using x,y coordinates\n",
    "plt.scatter(u[:,0],u[:,1],color='purple',marker='*',label='centroid')\n",
    "plt.xlabel(\"Spending Score (1-100)\")\n",
    "plt.ylabel('Annual Income (k$)')\n",
    "plt.legend()\n",
    "#plt.legend((df1,df2,df3,df4,df5),('0 Cluster', '1 Cluster','2 Cluster', '3 Cluster', '4 Cluster'),scatterpoints=1)\n",
    "plt.show()"
   ]
  },
  {
   "cell_type": "code",
   "execution_count": 17,
   "metadata": {},
   "outputs": [
    {
     "name": "stderr",
     "output_type": "stream",
     "text": [
      "C:\\Anaconda3\\lib\\site-packages\\sklearn\\preprocessing\\data.py:323: DataConversionWarning: Data with input dtype int64 were all converted to float64 by MinMaxScaler.\n",
      "  return self.partial_fit(X, y)\n",
      "C:\\Anaconda3\\lib\\site-packages\\sklearn\\preprocessing\\data.py:323: DataConversionWarning: Data with input dtype int64 were all converted to float64 by MinMaxScaler.\n",
      "  return self.partial_fit(X, y)\n",
      "C:\\Anaconda3\\lib\\site-packages\\sklearn\\preprocessing\\data.py:323: DataConversionWarning: Data with input dtype int64 were all converted to float64 by MinMaxScaler.\n",
      "  return self.partial_fit(X, y)\n"
     ]
    },
    {
     "data": {
      "text/html": [
       "<div>\n",
       "<style scoped>\n",
       "    .dataframe tbody tr th:only-of-type {\n",
       "        vertical-align: middle;\n",
       "    }\n",
       "\n",
       "    .dataframe tbody tr th {\n",
       "        vertical-align: top;\n",
       "    }\n",
       "\n",
       "    .dataframe thead th {\n",
       "        text-align: right;\n",
       "    }\n",
       "</style>\n",
       "<table border=\"1\" class=\"dataframe\">\n",
       "  <thead>\n",
       "    <tr style=\"text-align: right;\">\n",
       "      <th></th>\n",
       "      <th>CustomerID</th>\n",
       "      <th>Gender</th>\n",
       "      <th>Age</th>\n",
       "      <th>Annual Income (k$)</th>\n",
       "      <th>Spending Score (1-100)</th>\n",
       "      <th>customer_base_cluster</th>\n",
       "    </tr>\n",
       "  </thead>\n",
       "  <tbody>\n",
       "    <tr>\n",
       "      <th>0</th>\n",
       "      <td>34</td>\n",
       "      <td>Male</td>\n",
       "      <td>0.000000</td>\n",
       "      <td>0.147541</td>\n",
       "      <td>0.928571</td>\n",
       "      <td>3</td>\n",
       "    </tr>\n",
       "    <tr>\n",
       "      <th>1</th>\n",
       "      <td>66</td>\n",
       "      <td>Male</td>\n",
       "      <td>0.000000</td>\n",
       "      <td>0.270492</td>\n",
       "      <td>0.591837</td>\n",
       "      <td>1</td>\n",
       "    </tr>\n",
       "    <tr>\n",
       "      <th>2</th>\n",
       "      <td>92</td>\n",
       "      <td>Male</td>\n",
       "      <td>0.000000</td>\n",
       "      <td>0.360656</td>\n",
       "      <td>0.408163</td>\n",
       "      <td>1</td>\n",
       "    </tr>\n",
       "    <tr>\n",
       "      <th>3</th>\n",
       "      <td>115</td>\n",
       "      <td>Female</td>\n",
       "      <td>0.000000</td>\n",
       "      <td>0.409836</td>\n",
       "      <td>0.479592</td>\n",
       "      <td>1</td>\n",
       "    </tr>\n",
       "    <tr>\n",
       "      <th>4</th>\n",
       "      <td>1</td>\n",
       "      <td>Male</td>\n",
       "      <td>0.019231</td>\n",
       "      <td>0.000000</td>\n",
       "      <td>0.387755</td>\n",
       "      <td>0</td>\n",
       "    </tr>\n",
       "    <tr>\n",
       "      <th>5</th>\n",
       "      <td>62</td>\n",
       "      <td>Male</td>\n",
       "      <td>0.019231</td>\n",
       "      <td>0.254098</td>\n",
       "      <td>0.551020</td>\n",
       "      <td>1</td>\n",
       "    </tr>\n",
       "    <tr>\n",
       "      <th>6</th>\n",
       "      <td>69</td>\n",
       "      <td>Male</td>\n",
       "      <td>0.019231</td>\n",
       "      <td>0.270492</td>\n",
       "      <td>0.591837</td>\n",
       "      <td>1</td>\n",
       "    </tr>\n",
       "    <tr>\n",
       "      <th>7</th>\n",
       "      <td>112</td>\n",
       "      <td>Female</td>\n",
       "      <td>0.019231</td>\n",
       "      <td>0.393443</td>\n",
       "      <td>0.540816</td>\n",
       "      <td>1</td>\n",
       "    </tr>\n",
       "    <tr>\n",
       "      <th>8</th>\n",
       "      <td>114</td>\n",
       "      <td>Male</td>\n",
       "      <td>0.019231</td>\n",
       "      <td>0.401639</td>\n",
       "      <td>0.459184</td>\n",
       "      <td>1</td>\n",
       "    </tr>\n",
       "    <tr>\n",
       "      <th>9</th>\n",
       "      <td>116</td>\n",
       "      <td>Female</td>\n",
       "      <td>0.019231</td>\n",
       "      <td>0.409836</td>\n",
       "      <td>0.500000</td>\n",
       "      <td>1</td>\n",
       "    </tr>\n",
       "    <tr>\n",
       "      <th>10</th>\n",
       "      <td>139</td>\n",
       "      <td>Male</td>\n",
       "      <td>0.019231</td>\n",
       "      <td>0.483607</td>\n",
       "      <td>0.091837</td>\n",
       "      <td>2</td>\n",
       "    </tr>\n",
       "    <tr>\n",
       "      <th>11</th>\n",
       "      <td>163</td>\n",
       "      <td>Male</td>\n",
       "      <td>0.019231</td>\n",
       "      <td>0.540984</td>\n",
       "      <td>0.040816</td>\n",
       "      <td>2</td>\n",
       "    </tr>\n",
       "    <tr>\n",
       "      <th>12</th>\n",
       "      <td>3</td>\n",
       "      <td>Female</td>\n",
       "      <td>0.038462</td>\n",
       "      <td>0.008197</td>\n",
       "      <td>0.051020</td>\n",
       "      <td>0</td>\n",
       "    </tr>\n",
       "    <tr>\n",
       "      <th>13</th>\n",
       "      <td>18</td>\n",
       "      <td>Male</td>\n",
       "      <td>0.038462</td>\n",
       "      <td>0.049180</td>\n",
       "      <td>0.663265</td>\n",
       "      <td>3</td>\n",
       "    </tr>\n",
       "    <tr>\n",
       "      <th>14</th>\n",
       "      <td>40</td>\n",
       "      <td>Female</td>\n",
       "      <td>0.038462</td>\n",
       "      <td>0.180328</td>\n",
       "      <td>0.755102</td>\n",
       "      <td>3</td>\n",
       "    </tr>\n",
       "    <tr>\n",
       "      <th>15</th>\n",
       "      <td>100</td>\n",
       "      <td>Male</td>\n",
       "      <td>0.038462</td>\n",
       "      <td>0.377049</td>\n",
       "      <td>0.489796</td>\n",
       "      <td>1</td>\n",
       "    </tr>\n",
       "    <tr>\n",
       "      <th>16</th>\n",
       "      <td>135</td>\n",
       "      <td>Male</td>\n",
       "      <td>0.038462</td>\n",
       "      <td>0.475410</td>\n",
       "      <td>0.040816</td>\n",
       "      <td>2</td>\n",
       "    </tr>\n",
       "    <tr>\n",
       "      <th>17</th>\n",
       "      <td>2</td>\n",
       "      <td>Male</td>\n",
       "      <td>0.057692</td>\n",
       "      <td>0.000000</td>\n",
       "      <td>0.816327</td>\n",
       "      <td>3</td>\n",
       "    </tr>\n",
       "    <tr>\n",
       "      <th>18</th>\n",
       "      <td>32</td>\n",
       "      <td>Female</td>\n",
       "      <td>0.057692</td>\n",
       "      <td>0.122951</td>\n",
       "      <td>0.734694</td>\n",
       "      <td>3</td>\n",
       "    </tr>\n",
       "    <tr>\n",
       "      <th>19</th>\n",
       "      <td>36</td>\n",
       "      <td>Female</td>\n",
       "      <td>0.057692</td>\n",
       "      <td>0.147541</td>\n",
       "      <td>0.816327</td>\n",
       "      <td>3</td>\n",
       "    </tr>\n",
       "    <tr>\n",
       "      <th>20</th>\n",
       "      <td>85</td>\n",
       "      <td>Female</td>\n",
       "      <td>0.057692</td>\n",
       "      <td>0.319672</td>\n",
       "      <td>0.571429</td>\n",
       "      <td>1</td>\n",
       "    </tr>\n",
       "    <tr>\n",
       "      <th>21</th>\n",
       "      <td>106</td>\n",
       "      <td>Female</td>\n",
       "      <td>0.057692</td>\n",
       "      <td>0.385246</td>\n",
       "      <td>0.418367</td>\n",
       "      <td>1</td>\n",
       "    </tr>\n",
       "    <tr>\n",
       "      <th>22</th>\n",
       "      <td>6</td>\n",
       "      <td>Female</td>\n",
       "      <td>0.076923</td>\n",
       "      <td>0.016393</td>\n",
       "      <td>0.765306</td>\n",
       "      <td>3</td>\n",
       "    </tr>\n",
       "    <tr>\n",
       "      <th>23</th>\n",
       "      <td>16</td>\n",
       "      <td>Male</td>\n",
       "      <td>0.076923</td>\n",
       "      <td>0.040984</td>\n",
       "      <td>0.795918</td>\n",
       "      <td>3</td>\n",
       "    </tr>\n",
       "    <tr>\n",
       "      <th>24</th>\n",
       "      <td>88</td>\n",
       "      <td>Female</td>\n",
       "      <td>0.076923</td>\n",
       "      <td>0.344262</td>\n",
       "      <td>0.551020</td>\n",
       "      <td>1</td>\n",
       "    </tr>\n",
       "    <tr>\n",
       "      <th>25</th>\n",
       "      <td>4</td>\n",
       "      <td>Female</td>\n",
       "      <td>0.096154</td>\n",
       "      <td>0.008197</td>\n",
       "      <td>0.775510</td>\n",
       "      <td>3</td>\n",
       "    </tr>\n",
       "    <tr>\n",
       "      <th>26</th>\n",
       "      <td>8</td>\n",
       "      <td>Female</td>\n",
       "      <td>0.096154</td>\n",
       "      <td>0.024590</td>\n",
       "      <td>0.948980</td>\n",
       "      <td>3</td>\n",
       "    </tr>\n",
       "    <tr>\n",
       "      <th>27</th>\n",
       "      <td>30</td>\n",
       "      <td>Female</td>\n",
       "      <td>0.096154</td>\n",
       "      <td>0.114754</td>\n",
       "      <td>0.877551</td>\n",
       "      <td>3</td>\n",
       "    </tr>\n",
       "    <tr>\n",
       "      <th>28</th>\n",
       "      <td>79</td>\n",
       "      <td>Female</td>\n",
       "      <td>0.096154</td>\n",
       "      <td>0.319672</td>\n",
       "      <td>0.520408</td>\n",
       "      <td>1</td>\n",
       "    </tr>\n",
       "    <tr>\n",
       "      <th>29</th>\n",
       "      <td>101</td>\n",
       "      <td>Female</td>\n",
       "      <td>0.096154</td>\n",
       "      <td>0.385246</td>\n",
       "      <td>0.408163</td>\n",
       "      <td>1</td>\n",
       "    </tr>\n",
       "    <tr>\n",
       "      <th>...</th>\n",
       "      <td>...</td>\n",
       "      <td>...</td>\n",
       "      <td>...</td>\n",
       "      <td>...</td>\n",
       "      <td>...</td>\n",
       "      <td>...</td>\n",
       "    </tr>\n",
       "    <tr>\n",
       "      <th>170</th>\n",
       "      <td>87</td>\n",
       "      <td>Female</td>\n",
       "      <td>0.711538</td>\n",
       "      <td>0.344262</td>\n",
       "      <td>0.581633</td>\n",
       "      <td>1</td>\n",
       "    </tr>\n",
       "    <tr>\n",
       "      <th>171</th>\n",
       "      <td>161</td>\n",
       "      <td>Female</td>\n",
       "      <td>0.730769</td>\n",
       "      <td>0.524590</td>\n",
       "      <td>0.346939</td>\n",
       "      <td>2</td>\n",
       "    </tr>\n",
       "    <tr>\n",
       "      <th>172</th>\n",
       "      <td>81</td>\n",
       "      <td>Male</td>\n",
       "      <td>0.750000</td>\n",
       "      <td>0.319672</td>\n",
       "      <td>0.510204</td>\n",
       "      <td>1</td>\n",
       "    </tr>\n",
       "    <tr>\n",
       "      <th>173</th>\n",
       "      <td>141</td>\n",
       "      <td>Female</td>\n",
       "      <td>0.750000</td>\n",
       "      <td>0.491803</td>\n",
       "      <td>0.040816</td>\n",
       "      <td>2</td>\n",
       "    </tr>\n",
       "    <tr>\n",
       "      <th>174</th>\n",
       "      <td>13</td>\n",
       "      <td>Female</td>\n",
       "      <td>0.769231</td>\n",
       "      <td>0.040984</td>\n",
       "      <td>0.142857</td>\n",
       "      <td>0</td>\n",
       "    </tr>\n",
       "    <tr>\n",
       "      <th>175</th>\n",
       "      <td>177</td>\n",
       "      <td>Male</td>\n",
       "      <td>0.769231</td>\n",
       "      <td>0.598361</td>\n",
       "      <td>0.142857</td>\n",
       "      <td>2</td>\n",
       "    </tr>\n",
       "    <tr>\n",
       "      <th>176</th>\n",
       "      <td>54</td>\n",
       "      <td>Male</td>\n",
       "      <td>0.788462</td>\n",
       "      <td>0.229508</td>\n",
       "      <td>0.602041</td>\n",
       "      <td>1</td>\n",
       "    </tr>\n",
       "    <tr>\n",
       "      <th>177</th>\n",
       "      <td>75</td>\n",
       "      <td>Male</td>\n",
       "      <td>0.788462</td>\n",
       "      <td>0.319672</td>\n",
       "      <td>0.469388</td>\n",
       "      <td>1</td>\n",
       "    </tr>\n",
       "    <tr>\n",
       "      <th>178</th>\n",
       "      <td>129</td>\n",
       "      <td>Male</td>\n",
       "      <td>0.788462</td>\n",
       "      <td>0.459016</td>\n",
       "      <td>0.102041</td>\n",
       "      <td>2</td>\n",
       "    </tr>\n",
       "    <tr>\n",
       "      <th>179</th>\n",
       "      <td>179</td>\n",
       "      <td>Male</td>\n",
       "      <td>0.788462</td>\n",
       "      <td>0.639344</td>\n",
       "      <td>0.132653</td>\n",
       "      <td>2</td>\n",
       "    </tr>\n",
       "    <tr>\n",
       "      <th>180</th>\n",
       "      <td>31</td>\n",
       "      <td>Male</td>\n",
       "      <td>0.807692</td>\n",
       "      <td>0.122951</td>\n",
       "      <td>0.030612</td>\n",
       "      <td>0</td>\n",
       "    </tr>\n",
       "    <tr>\n",
       "      <th>181</th>\n",
       "      <td>73</td>\n",
       "      <td>Female</td>\n",
       "      <td>0.807692</td>\n",
       "      <td>0.286885</td>\n",
       "      <td>0.489796</td>\n",
       "      <td>1</td>\n",
       "    </tr>\n",
       "    <tr>\n",
       "      <th>182</th>\n",
       "      <td>74</td>\n",
       "      <td>Female</td>\n",
       "      <td>0.807692</td>\n",
       "      <td>0.286885</td>\n",
       "      <td>0.561224</td>\n",
       "      <td>1</td>\n",
       "    </tr>\n",
       "    <tr>\n",
       "      <th>183</th>\n",
       "      <td>65</td>\n",
       "      <td>Male</td>\n",
       "      <td>0.865385</td>\n",
       "      <td>0.270492</td>\n",
       "      <td>0.510204</td>\n",
       "      <td>1</td>\n",
       "    </tr>\n",
       "    <tr>\n",
       "      <th>184</th>\n",
       "      <td>117</td>\n",
       "      <td>Female</td>\n",
       "      <td>0.865385</td>\n",
       "      <td>0.409836</td>\n",
       "      <td>0.428571</td>\n",
       "      <td>1</td>\n",
       "    </tr>\n",
       "    <tr>\n",
       "      <th>185</th>\n",
       "      <td>9</td>\n",
       "      <td>Male</td>\n",
       "      <td>0.884615</td>\n",
       "      <td>0.032787</td>\n",
       "      <td>0.020408</td>\n",
       "      <td>0</td>\n",
       "    </tr>\n",
       "    <tr>\n",
       "      <th>186</th>\n",
       "      <td>41</td>\n",
       "      <td>Female</td>\n",
       "      <td>0.903846</td>\n",
       "      <td>0.188525</td>\n",
       "      <td>0.346939</td>\n",
       "      <td>0</td>\n",
       "    </tr>\n",
       "    <tr>\n",
       "      <th>187</th>\n",
       "      <td>111</td>\n",
       "      <td>Male</td>\n",
       "      <td>0.903846</td>\n",
       "      <td>0.393443</td>\n",
       "      <td>0.520408</td>\n",
       "      <td>1</td>\n",
       "    </tr>\n",
       "    <tr>\n",
       "      <th>188</th>\n",
       "      <td>107</td>\n",
       "      <td>Female</td>\n",
       "      <td>0.923077</td>\n",
       "      <td>0.393443</td>\n",
       "      <td>0.500000</td>\n",
       "      <td>1</td>\n",
       "    </tr>\n",
       "    <tr>\n",
       "      <th>189</th>\n",
       "      <td>110</td>\n",
       "      <td>Male</td>\n",
       "      <td>0.923077</td>\n",
       "      <td>0.393443</td>\n",
       "      <td>0.479592</td>\n",
       "      <td>1</td>\n",
       "    </tr>\n",
       "    <tr>\n",
       "      <th>190</th>\n",
       "      <td>11</td>\n",
       "      <td>Male</td>\n",
       "      <td>0.942308</td>\n",
       "      <td>0.032787</td>\n",
       "      <td>0.132653</td>\n",
       "      <td>0</td>\n",
       "    </tr>\n",
       "    <tr>\n",
       "      <th>191</th>\n",
       "      <td>63</td>\n",
       "      <td>Female</td>\n",
       "      <td>0.942308</td>\n",
       "      <td>0.262295</td>\n",
       "      <td>0.520408</td>\n",
       "      <td>1</td>\n",
       "    </tr>\n",
       "    <tr>\n",
       "      <th>192</th>\n",
       "      <td>83</td>\n",
       "      <td>Male</td>\n",
       "      <td>0.942308</td>\n",
       "      <td>0.319672</td>\n",
       "      <td>0.408163</td>\n",
       "      <td>1</td>\n",
       "    </tr>\n",
       "    <tr>\n",
       "      <th>193</th>\n",
       "      <td>103</td>\n",
       "      <td>Male</td>\n",
       "      <td>0.942308</td>\n",
       "      <td>0.385246</td>\n",
       "      <td>0.591837</td>\n",
       "      <td>1</td>\n",
       "    </tr>\n",
       "    <tr>\n",
       "      <th>194</th>\n",
       "      <td>68</td>\n",
       "      <td>Female</td>\n",
       "      <td>0.961538</td>\n",
       "      <td>0.270492</td>\n",
       "      <td>0.479592</td>\n",
       "      <td>1</td>\n",
       "    </tr>\n",
       "    <tr>\n",
       "      <th>195</th>\n",
       "      <td>91</td>\n",
       "      <td>Female</td>\n",
       "      <td>0.961538</td>\n",
       "      <td>0.360656</td>\n",
       "      <td>0.551020</td>\n",
       "      <td>1</td>\n",
       "    </tr>\n",
       "    <tr>\n",
       "      <th>196</th>\n",
       "      <td>109</td>\n",
       "      <td>Male</td>\n",
       "      <td>0.961538</td>\n",
       "      <td>0.393443</td>\n",
       "      <td>0.428571</td>\n",
       "      <td>1</td>\n",
       "    </tr>\n",
       "    <tr>\n",
       "      <th>197</th>\n",
       "      <td>58</td>\n",
       "      <td>Male</td>\n",
       "      <td>0.980769</td>\n",
       "      <td>0.237705</td>\n",
       "      <td>0.459184</td>\n",
       "      <td>1</td>\n",
       "    </tr>\n",
       "    <tr>\n",
       "      <th>198</th>\n",
       "      <td>61</td>\n",
       "      <td>Male</td>\n",
       "      <td>1.000000</td>\n",
       "      <td>0.254098</td>\n",
       "      <td>0.561224</td>\n",
       "      <td>1</td>\n",
       "    </tr>\n",
       "    <tr>\n",
       "      <th>199</th>\n",
       "      <td>71</td>\n",
       "      <td>Male</td>\n",
       "      <td>1.000000</td>\n",
       "      <td>0.278689</td>\n",
       "      <td>0.551020</td>\n",
       "      <td>1</td>\n",
       "    </tr>\n",
       "  </tbody>\n",
       "</table>\n",
       "<p>200 rows × 6 columns</p>\n",
       "</div>"
      ],
      "text/plain": [
       "     CustomerID  Gender       Age  Annual Income (k$)  Spending Score (1-100)  \\\n",
       "0            34    Male  0.000000            0.147541                0.928571   \n",
       "1            66    Male  0.000000            0.270492                0.591837   \n",
       "2            92    Male  0.000000            0.360656                0.408163   \n",
       "3           115  Female  0.000000            0.409836                0.479592   \n",
       "4             1    Male  0.019231            0.000000                0.387755   \n",
       "5            62    Male  0.019231            0.254098                0.551020   \n",
       "6            69    Male  0.019231            0.270492                0.591837   \n",
       "7           112  Female  0.019231            0.393443                0.540816   \n",
       "8           114    Male  0.019231            0.401639                0.459184   \n",
       "9           116  Female  0.019231            0.409836                0.500000   \n",
       "10          139    Male  0.019231            0.483607                0.091837   \n",
       "11          163    Male  0.019231            0.540984                0.040816   \n",
       "12            3  Female  0.038462            0.008197                0.051020   \n",
       "13           18    Male  0.038462            0.049180                0.663265   \n",
       "14           40  Female  0.038462            0.180328                0.755102   \n",
       "15          100    Male  0.038462            0.377049                0.489796   \n",
       "16          135    Male  0.038462            0.475410                0.040816   \n",
       "17            2    Male  0.057692            0.000000                0.816327   \n",
       "18           32  Female  0.057692            0.122951                0.734694   \n",
       "19           36  Female  0.057692            0.147541                0.816327   \n",
       "20           85  Female  0.057692            0.319672                0.571429   \n",
       "21          106  Female  0.057692            0.385246                0.418367   \n",
       "22            6  Female  0.076923            0.016393                0.765306   \n",
       "23           16    Male  0.076923            0.040984                0.795918   \n",
       "24           88  Female  0.076923            0.344262                0.551020   \n",
       "25            4  Female  0.096154            0.008197                0.775510   \n",
       "26            8  Female  0.096154            0.024590                0.948980   \n",
       "27           30  Female  0.096154            0.114754                0.877551   \n",
       "28           79  Female  0.096154            0.319672                0.520408   \n",
       "29          101  Female  0.096154            0.385246                0.408163   \n",
       "..          ...     ...       ...                 ...                     ...   \n",
       "170          87  Female  0.711538            0.344262                0.581633   \n",
       "171         161  Female  0.730769            0.524590                0.346939   \n",
       "172          81    Male  0.750000            0.319672                0.510204   \n",
       "173         141  Female  0.750000            0.491803                0.040816   \n",
       "174          13  Female  0.769231            0.040984                0.142857   \n",
       "175         177    Male  0.769231            0.598361                0.142857   \n",
       "176          54    Male  0.788462            0.229508                0.602041   \n",
       "177          75    Male  0.788462            0.319672                0.469388   \n",
       "178         129    Male  0.788462            0.459016                0.102041   \n",
       "179         179    Male  0.788462            0.639344                0.132653   \n",
       "180          31    Male  0.807692            0.122951                0.030612   \n",
       "181          73  Female  0.807692            0.286885                0.489796   \n",
       "182          74  Female  0.807692            0.286885                0.561224   \n",
       "183          65    Male  0.865385            0.270492                0.510204   \n",
       "184         117  Female  0.865385            0.409836                0.428571   \n",
       "185           9    Male  0.884615            0.032787                0.020408   \n",
       "186          41  Female  0.903846            0.188525                0.346939   \n",
       "187         111    Male  0.903846            0.393443                0.520408   \n",
       "188         107  Female  0.923077            0.393443                0.500000   \n",
       "189         110    Male  0.923077            0.393443                0.479592   \n",
       "190          11    Male  0.942308            0.032787                0.132653   \n",
       "191          63  Female  0.942308            0.262295                0.520408   \n",
       "192          83    Male  0.942308            0.319672                0.408163   \n",
       "193         103    Male  0.942308            0.385246                0.591837   \n",
       "194          68  Female  0.961538            0.270492                0.479592   \n",
       "195          91  Female  0.961538            0.360656                0.551020   \n",
       "196         109    Male  0.961538            0.393443                0.428571   \n",
       "197          58    Male  0.980769            0.237705                0.459184   \n",
       "198          61    Male  1.000000            0.254098                0.561224   \n",
       "199          71    Male  1.000000            0.278689                0.551020   \n",
       "\n",
       "     customer_base_cluster  \n",
       "0                        3  \n",
       "1                        1  \n",
       "2                        1  \n",
       "3                        1  \n",
       "4                        0  \n",
       "5                        1  \n",
       "6                        1  \n",
       "7                        1  \n",
       "8                        1  \n",
       "9                        1  \n",
       "10                       2  \n",
       "11                       2  \n",
       "12                       0  \n",
       "13                       3  \n",
       "14                       3  \n",
       "15                       1  \n",
       "16                       2  \n",
       "17                       3  \n",
       "18                       3  \n",
       "19                       3  \n",
       "20                       1  \n",
       "21                       1  \n",
       "22                       3  \n",
       "23                       3  \n",
       "24                       1  \n",
       "25                       3  \n",
       "26                       3  \n",
       "27                       3  \n",
       "28                       1  \n",
       "29                       1  \n",
       "..                     ...  \n",
       "170                      1  \n",
       "171                      2  \n",
       "172                      1  \n",
       "173                      2  \n",
       "174                      0  \n",
       "175                      2  \n",
       "176                      1  \n",
       "177                      1  \n",
       "178                      2  \n",
       "179                      2  \n",
       "180                      0  \n",
       "181                      1  \n",
       "182                      1  \n",
       "183                      1  \n",
       "184                      1  \n",
       "185                      0  \n",
       "186                      0  \n",
       "187                      1  \n",
       "188                      1  \n",
       "189                      1  \n",
       "190                      0  \n",
       "191                      1  \n",
       "192                      1  \n",
       "193                      1  \n",
       "194                      1  \n",
       "195                      1  \n",
       "196                      1  \n",
       "197                      1  \n",
       "198                      1  \n",
       "199                      1  \n",
       "\n",
       "[200 rows x 6 columns]"
      ]
     },
     "execution_count": 17,
     "metadata": {},
     "output_type": "execute_result"
    }
   ],
   "source": [
    "scaler = MinMaxScaler()\n",
    "\n",
    "scaler.fit(df[['Annual Income (k$)']])\n",
    "df['Annual Income (k$)'] = scaler.transform(df[['Annual Income (k$)']])\n",
    "\n",
    "scaler.fit(df[['Spending Score (1-100)']])\n",
    "df['Spending Score (1-100)'] = scaler.transform(df[['Spending Score (1-100)']])\n",
    "scaler.fit(df[['Age']])\n",
    "df['Age'] = scaler.transform(df[['Age']])\n",
    "df\n",
    "#Dataframe after scaling"
   ]
  },
  {
   "cell_type": "code",
   "execution_count": 18,
   "metadata": {},
   "outputs": [
    {
     "name": "stdout",
     "output_type": "stream",
     "text": [
      "[2 2 2 2 2 2 2 2 2 2 1 1 1 2 2 2 1 2 2 2 2 2 2 2 2 2 2 2 2 2 1 2 2 2 2 2 1\n",
      " 1 2 2 2 2 2 2 0 0 1 0 0 0 2 2 0 0 0 2 2 0 0 0 0 0 2 2 2 2 2 0 0 0 2 2 0 0\n",
      " 0 0 0 0 0 0 1 2 0 1 2 1 0 1 1 1 2 2 2 2 2 0 0 0 2 0 1 1 0 0 1 1 1 2 2 2 0\n",
      " 0 0 0 0 0 2 2 2 2 0 1 1 1 1 1 2 1 1 1 1 2 2 1 1 2 1 2 2 2 1 1 1 2 2 2 2 1\n",
      " 1 2 2 2 2 2 2 2 2 2 2 1 2 2 2 1 1 2 1 2 2 1 2 1 2 1 1 1 2 2 1 1 1 2 2 2 2\n",
      " 1 2 2 2 2 1 2 2 2 2 2 2 2 2 2]\n"
     ]
    }
   ],
   "source": [
    "#for k=3 getting predicted clusters\n",
    "km = KMeans(n_clusters=3)\n",
    "y_predicted = km.fit_predict(df[['Annual Income (k$)','Spending Score (1-100)']])\n",
    "print(y_predicted)\n"
   ]
  },
  {
   "cell_type": "code",
   "execution_count": 20,
   "metadata": {},
   "outputs": [
    {
     "name": "stdout",
     "output_type": "stream",
     "text": [
      "Sse: [23.04072032603991, 13.993505283127977, 9.058985215159455, 6.110312266413655, 3.5831179059525606, 3.098385141882586, 2.641641737655628, 2.2202366688882824, 1.8753382288473202]\n"
     ]
    }
   ],
   "source": [
    "#calculation of errors sum of squared errors\n",
    "sse = []\n",
    "k_range = range(1,10)\n",
    "for k in k_range:\n",
    "    km = KMeans(n_clusters=k)\n",
    "    km.fit(df[['Annual Income (k$)','Spending Score (1-100)']])\n",
    "    sse.append(km.inertia_)\n",
    "#print sum of squared errors\n",
    "print(\"Sse:\",sse)"
   ]
  },
  {
   "cell_type": "code",
   "execution_count": 21,
   "metadata": {},
   "outputs": [
    {
     "data": {
      "text/plain": [
       "[<matplotlib.lines.Line2D at 0x1a405e1be10>]"
      ]
     },
     "execution_count": 21,
     "metadata": {},
     "output_type": "execute_result"
    },
    {
     "data": {
      "image/png": "[encoded data removed]",
      "text/plain": [
       "<Figure size 432x288 with 1 Axes>"
      ]
     },
     "metadata": {},
     "output_type": "display_data"
    }
   ],
   "source": [
    "k_range = range(1,10)\n",
    "plt.xlabel('K-Values')\n",
    "plt.ylabel('Sum of squared error')\n",
    "plt.plot(k_range,sse)"
   ]
  },
  {
   "cell_type": "code",
   "execution_count": null,
   "metadata": {},
   "outputs": [],
   "source": [
    "#From the above plot k=5 suits best for the given dataset"
   ]
  },
  {
   "cell_type": "code",
   "execution_count": 22,
   "metadata": {},
   "outputs": [
    {
     "name": "stdout",
     "output_type": "stream",
     "text": [
      "Y Predicted\n",
      " [0 4 4 4 3 4 4 4 4 4 2 2 3 0 0 4 2 0 0 0 4 4 0 0 4 0 0 0 4 4 2 0 0 0 4 0 4\n",
      " 2 4 4 4 4 4 4 1 1 4 1 1 1 0 4 1 1 1 0 0 1 1 1 1 1 3 0 4 4 4 1 1 1 4 4 1 1\n",
      " 1 1 1 1 1 1 2 4 1 2 4 2 1 2 2 3 0 3 0 3 0 1 1 1 3 1 2 2 1 1 3 2 2 4 4 4 1\n",
      " 1 1 1 1 1 3 4 4 4 1 2 2 2 3 2 4 4 2 2 2 3 4 2 3 4 2 4 4 4 2 2 2 3 4 4 4 2\n",
      " 3 3 4 4 4 4 4 4 4 4 4 2 4 4 3 2 3 4 3 4 4 2 4 2 4 2 3 2 4 4 2 2 3 4 4 4 4\n",
      " 3 3 4 4 4 3 4 4 4 4 4 4 4 4 4] \n",
      " clustercentres:\n",
      " [[0.79962894 0.08792846]\n",
      " [0.82783883 0.58638083]\n",
      " [0.16443149 0.6       ]\n",
      " [0.20319432 0.09265859]\n",
      " [0.49508692 0.33029751]]\n"
     ]
    }
   ],
   "source": [
    "km = KMeans(n_clusters=5)\n",
    "y_predicted = km.fit_predict(df[['Spending Score (1-100)','Annual Income (k$)']])\n",
    "\n",
    "#y_predicted1 = km.fit_predict(df1[['Spending Score (1-100)','Annual Income (k$)']])\n",
    "print(\"Y Predicted\\n\",y_predicted,\"\\n\",\"clustercentres:\\n\",km.cluster_centers_)\n",
    "u=km.cluster_centers_"
   ]
  },
  {
   "cell_type": "code",
   "execution_count": 23,
   "metadata": {},
   "outputs": [
    {
     "data": {
      "text/html": [
       "<div>\n",
       "<style scoped>\n",
       "    .dataframe tbody tr th:only-of-type {\n",
       "        vertical-align: middle;\n",
       "    }\n",
       "\n",
       "    .dataframe tbody tr th {\n",
       "        vertical-align: top;\n",
       "    }\n",
       "\n",
       "    .dataframe thead th {\n",
       "        text-align: right;\n",
       "    }\n",
       "</style>\n",
       "<table border=\"1\" class=\"dataframe\">\n",
       "  <thead>\n",
       "    <tr style=\"text-align: right;\">\n",
       "      <th></th>\n",
       "      <th>CustomerID</th>\n",
       "      <th>Gender</th>\n",
       "      <th>Age</th>\n",
       "      <th>Annual Income (k$)</th>\n",
       "      <th>Spending Score (1-100)</th>\n",
       "      <th>customer_base_cluster</th>\n",
       "    </tr>\n",
       "  </thead>\n",
       "  <tbody>\n",
       "    <tr>\n",
       "      <th>0</th>\n",
       "      <td>34</td>\n",
       "      <td>Male</td>\n",
       "      <td>0.000000</td>\n",
       "      <td>0.147541</td>\n",
       "      <td>0.928571</td>\n",
       "      <td>0</td>\n",
       "    </tr>\n",
       "    <tr>\n",
       "      <th>1</th>\n",
       "      <td>66</td>\n",
       "      <td>Male</td>\n",
       "      <td>0.000000</td>\n",
       "      <td>0.270492</td>\n",
       "      <td>0.591837</td>\n",
       "      <td>4</td>\n",
       "    </tr>\n",
       "    <tr>\n",
       "      <th>2</th>\n",
       "      <td>92</td>\n",
       "      <td>Male</td>\n",
       "      <td>0.000000</td>\n",
       "      <td>0.360656</td>\n",
       "      <td>0.408163</td>\n",
       "      <td>4</td>\n",
       "    </tr>\n",
       "    <tr>\n",
       "      <th>3</th>\n",
       "      <td>115</td>\n",
       "      <td>Female</td>\n",
       "      <td>0.000000</td>\n",
       "      <td>0.409836</td>\n",
       "      <td>0.479592</td>\n",
       "      <td>4</td>\n",
       "    </tr>\n",
       "    <tr>\n",
       "      <th>4</th>\n",
       "      <td>1</td>\n",
       "      <td>Male</td>\n",
       "      <td>0.019231</td>\n",
       "      <td>0.000000</td>\n",
       "      <td>0.387755</td>\n",
       "      <td>3</td>\n",
       "    </tr>\n",
       "  </tbody>\n",
       "</table>\n",
       "</div>"
      ],
      "text/plain": [
       "   CustomerID  Gender       Age  Annual Income (k$)  Spending Score (1-100)  \\\n",
       "0          34    Male  0.000000            0.147541                0.928571   \n",
       "1          66    Male  0.000000            0.270492                0.591837   \n",
       "2          92    Male  0.000000            0.360656                0.408163   \n",
       "3         115  Female  0.000000            0.409836                0.479592   \n",
       "4           1    Male  0.019231            0.000000                0.387755   \n",
       "\n",
       "   customer_base_cluster  \n",
       "0                      0  \n",
       "1                      4  \n",
       "2                      4  \n",
       "3                      4  \n",
       "4                      3  "
      ]
     },
     "execution_count": 23,
     "metadata": {},
     "output_type": "execute_result"
    }
   ],
   "source": [
    "df['customer_base_cluster']=y_predicted\n",
    "df.head()"
   ]
  },
  {
   "cell_type": "code",
   "execution_count": 24,
   "metadata": {},
   "outputs": [
    {
     "name": "stdout",
     "output_type": "stream",
     "text": [
      "[[0.79962894 0.08792846]\n",
      " [0.82783883 0.58638083]\n",
      " [0.16443149 0.6       ]\n",
      " [0.20319432 0.09265859]\n",
      " [0.49508692 0.33029751]]\n"
     ]
    }
   ],
   "source": [
    "print(u)"
   ]
  },
  {
   "cell_type": "code",
   "execution_count": 25,
   "metadata": {},
   "outputs": [
    {
     "data": {
      "image/png": "[encoded data removed]",
      "text/plain": [
       "<Figure size 576x576 with 1 Axes>"
      ]
     },
     "metadata": {},
     "output_type": "display_data"
    }
   ],
   "source": [
    "km = KMeans(n_clusters=5)\n",
    "df1 = df[df.customer_base_cluster==0]\n",
    "df2 = df[df.customer_base_cluster==1]\n",
    "df3 = df[df.customer_base_cluster==2]\n",
    "df4 = df[df.customer_base_cluster==3]\n",
    "df5 = df[df.customer_base_cluster==4]\n",
    "plt.figure(figsize=(8,8))\n",
    "plt.scatter(df1[\"Spending Score (1-100)\"],df1['Annual Income (k$)'],color='green',label='0 Cluster')\n",
    "plt.scatter(df2[\"Spending Score (1-100)\"],df2['Annual Income (k$)'],color='red',label='1 Cluster')\n",
    "plt.scatter(df3[\"Spending Score (1-100)\"],df3['Annual Income (k$)'],color='blue',label='2 Cluster')\n",
    "plt.scatter(df4[\"Spending Score (1-100)\"],df4['Annual Income (k$)'],color='orange',label='3 Cluster')\n",
    "plt.scatter(df5[\"Spending Score (1-100)\"],df5['Annual Income (k$)'],color='magenta',label='4 Cluster')\n",
    "#plotting centroids using x,y coordinates\n",
    "plt.scatter(u[:,0],u[:,1],color='purple',marker='*',label='centroid')\n",
    "plt.xlabel(\"Spending Score (scaled)\")\n",
    "plt.ylabel('Annual Income (scaaled)')\n",
    "plt.legend()\n",
    "#plt.legend((df1,df2,df3,df4,df5),('0 Cluster', '1 Cluster','2 Cluster', '3 Cluster', '4 Cluster'),scatterpoints=1)\n",
    "plt.show()"
   ]
  },
  {
   "cell_type": "code",
   "execution_count": 26,
   "metadata": {},
   "outputs": [
    {
     "name": "stdout",
     "output_type": "stream",
     "text": [
      "[3, 4, 4, 4, 4, 4, 4, 4, 4, 4]\n"
     ]
    }
   ],
   "source": [
    "x1=df[\"Spending Score (1-100)\"][190:].values.tolist()\n",
    "y1=df['Annual Income (k$)'][190:].values.tolist()\n",
    "m=[]\n",
    "for i in range(len(x1)):\n",
    "    x=x1[i]\n",
    "    y=y1[i]\n",
    "    mind=((x-u[0][0])**2+(y-u[0][1])**2)**0.5\n",
    "    mindex=0\n",
    "    for j in range(1,len(u)):\n",
    "        d=((x-u[j][0])**2+(y-u[j][1])**2)**0.5\n",
    "        if d<=mind:\n",
    "            mind=d\n",
    "            mindex=j\n",
    "    m.append(mindex)\n",
    "print(m)   "
   ]
  },
  {
   "cell_type": "code",
   "execution_count": 27,
   "metadata": {},
   "outputs": [
    {
     "name": "stdout",
     "output_type": "stream",
     "text": [
      "[3, 4, 4, 4, 4, 4, 4, 4, 4, 4]\n"
     ]
    }
   ],
   "source": [
    "x1=df.customer_base_cluster[190:].values.tolist()\n",
    "print(x1)"
   ]
  },
  {
   "cell_type": "code",
   "execution_count": 28,
   "metadata": {},
   "outputs": [
    {
     "name": "stdout",
     "output_type": "stream",
     "text": [
      "Accuracy: 1.0\n"
     ]
    }
   ],
   "source": [
    "#As it is unsupervised method,we have to manually calculate Accuraacy\n",
    "c=0\n",
    "for i in range(len(x1)):\n",
    "    if m[i]==x1[i]:\n",
    "        c+=1\n",
    "print(\"Accuracy:\",c/(len(x1)))\n",
    "    "
   ]
  },
  {
   "cell_type": "code",
   "execution_count": 29,
   "metadata": {},
   "outputs": [],
   "source": [
    "# customers with spending score between 0-40 and annual income below 40k$ will be under one cluster, customers with spending score between 40-60 and annual income from 40-65k$ will be under one cluster, customers with spending score 60 to 100 and annual income 40k$ will come under one cluster, customers with spending score from 0 to 40 and annual income from 65 to 137k$ will come under one cluster, customers with spending score 60 to 100 and annual income from 65 to 137k$ will come under one cluster"
   ]
  },
  {
   "cell_type": "code",
   "execution_count": null,
   "metadata": {},
   "outputs": [],
   "source": []
  }
 ],
 "metadata": {
  "kernelspec": {
   "display_name": "Python 3",
   "language": "python",
   "name": "python3"
  },
  "language_info": {
   "codemirror_mode": {
    "name": "ipython",
    "version": 3
   },
   "file_extension": ".py",
   "mimetype": "text/x-python",
   "name": "python",
   "nbconvert_exporter": "python",
   "pygments_lexer": "ipython3",
   "version": "3.6.5"
  }
 },
 "nbformat": 4,
 "nbformat_minor": 2
}
